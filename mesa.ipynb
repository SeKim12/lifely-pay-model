{
 "cells": [
  {
   "cell_type": "markdown",
   "source": [],
   "metadata": {
    "collapsed": false,
    "pycharm": {
     "name": "#%% md\n"
    }
   }
  },
  {
   "cell_type": "code",
   "execution_count": null,
   "outputs": [],
   "source": [
    "import requests\n",
    "parameter = {\n",
    "    'id': 'ethereum',\n",
    "    'vs_currency': 'usd',\n",
    "    'from': '1650982222',\n",
    "    'to': '1658758222'\n",
    "}\n",
    "response = requests.get('https://api.coingecko.com/api/v3/coins/ethereum/market_chart/range?vs_currency=usd&from=1650982222&to=1658758222')\n",
    "\n",
    "print(len(response.json()['prices']))"
   ],
   "metadata": {
    "collapsed": false,
    "pycharm": {
     "name": "#%%\n",
     "is_executing": true
    }
   }
  },
  {
   "cell_type": "code",
   "execution_count": null,
   "outputs": [],
   "source": [
    "prices = [tpl[1] for tpl in response.json()['prices']]\n",
    "\n",
    "print(prices)"
   ],
   "metadata": {
    "collapsed": false,
    "pycharm": {
     "name": "#%%\n",
     "is_executing": true
    }
   }
  },
  {
   "cell_type": "code",
   "execution_count": null,
   "outputs": [],
   "source": [
    "import mesa\n",
    "from decimal import *\n",
    "import pandas as pd\n",
    "from IPython.display import display\n",
    "\n",
    "from contracts import router_factory\n",
    "from agents.buyer import BuyerAgent\n",
    "from agents.oracle import Oracle\n",
    "from states.params import Params\n",
    "from contracts.types import DummyProtocolAgent, Tokens\n",
    "\n",
    "\"\"\"Model Data Collector Methods\"\"\"\n",
    "\n",
    "def eth_prices(model):\n",
    "    return Oracle.get_price_of(\"ETH\")\n",
    "\n",
    "def sa_balance(model):\n",
    "    return model.router._sa_pool.balance\n",
    "\n",
    "\n",
    "def fee_balance(model):\n",
    "    return model.router._fee_pool.balance\n",
    "\n",
    "\n",
    "def va_balance(model):\n",
    "    return model.router._va_pool.balance * Oracle.get_price_of(\"ETH\")\n",
    "\n",
    "def principal(model):\n",
    "    return model.router._sa_pool.principal\n",
    "\n",
    "\n",
    "def total(model):\n",
    "    return (\n",
    "        model.router._sa_pool.balance\n",
    "        + model.router._fee_pool.balance\n",
    "        + model.router._va_pool.balance * Oracle.get_price_of(\"ETH\")\n",
    "    )\n",
    "\n",
    "\n",
    "def num_triggered(model):\n",
    "    return model.router.num_triggered\n",
    "\n",
    "\n",
    "def num_rebalanced(model):\n",
    "    return model.router.num_rebalanced\n",
    "\n",
    "\n",
    "class LifelyPayModel(mesa.Model):\n",
    "    def __init__(self, n):\n",
    "        super().__init__()\n",
    "        self._step = 0\n",
    "        self.router = router_factory.Router(\"ETH\", \"USDC\")\n",
    "\n",
    "        # Initiate w/ $1M Protocol-injected Liquidity\n",
    "        self.router.process_lp_provider_request(\n",
    "            DummyProtocolAgent(), Tokens(Decimal(3000000), \"USDC\")\n",
    "        )\n",
    "\n",
    "        self.schedule = mesa.time.RandomActivation(self)\n",
    "        for i in range(n):\n",
    "            ba = BuyerAgent(i, \"DIMWIT-\" + str(i), self.router, self)\n",
    "            # buyer gets infinite ETH to spend\n",
    "            # amount paid and amount redeemed is tracked separately\n",
    "            ba.initiate_with(\"ETH\")\n",
    "            self.schedule.add(ba)\n",
    "\n",
    "        self.running = True\n",
    "        self.datacollector = mesa.DataCollector(\n",
    "            model_reporters={\n",
    "                \"ETH Prices\": eth_prices,\n",
    "                \"USDC Pool Balance USD\": sa_balance,\n",
    "                \"ETH Pool Balance USD\": va_balance,\n",
    "                \"Fee Pool Balance USDC\": fee_balance,\n",
    "                \"Total Asset Value USD\": total,\n",
    "                \"# Emergency Triggers\": num_triggered,\n",
    "                \"# Pool Rebalancing\": num_rebalanced,\n",
    "            },\n",
    "            agent_reporters={\n",
    "                \"buyer_spent_eth_usd\": \"spent_eth_usd\",\n",
    "                \"buyer_redeemed_eth_usd\": \"redeemed_eth_usd\",\n",
    "                \"buyer_remaining_vouchers\": \"remaining_vouchers\",\n",
    "            },\n",
    "        )\n",
    "\n",
    "    def step(self):\n",
    "        Oracle.set_price(Decimal(str(prices[self._step])))\n",
    "        self._step += 1\n",
    "        self.schedule.step()\n",
    "        self.datacollector.collect(self)\n",
    "\n",
    "\n",
    "if __name__ == \"__main__\":\n",
    "    getcontext().prec = 18\n",
    "    results = mesa.batch_run(\n",
    "        LifelyPayModel,\n",
    "        parameters={\"n\": 50},\n",
    "        iterations=1,\n",
    "        max_steps=500,\n",
    "        number_processes=1,\n",
    "        data_collection_period=1,\n",
    "        display_progress=False,\n",
    "    )\n",
    "    Params.hard_reset()\n",
    "    Oracle.reset()\n",
    "    rdf = pd.DataFrame(results)"
   ],
   "metadata": {
    "collapsed": false,
    "pycharm": {
     "name": "#%%\n",
     "is_executing": true
    }
   }
  },
  {
   "cell_type": "code",
   "execution_count": null,
   "outputs": [],
   "source": [
    "import matplotlib.pyplot as plt\n",
    "plt.figure(figsize=(20,10))\n",
    "pd.set_option('display.max_rows', None)\n",
    "one_iteration = rdf[(rdf.iteration == 0)]\n",
    "\n",
    "filtered = one_iteration.loc[(one_iteration['AgentID'] == 0)]\n",
    "\n",
    "filtered['Total Asset Value USD'] = filtered['Total Asset Value USD'].astype(float)\n",
    "\n",
    "filtered['ETH Prices'] = filtered['ETH Prices'].astype(float)\n",
    "filtered['ETH Prices'] = filtered['ETH Prices'].mul(1.5e3)\n",
    "\n",
    "\n",
    "ax = plt.gca()\n",
    "ax.set_yscale('log')\n",
    "\n",
    "filtered.plot(kind='line',x='Step',y='Total Asset Value USD', ax=ax)\n",
    "filtered.plot(kind='line',x='Step',color='green',y='ETH Prices', ax=ax)\n",
    "\n",
    "valid_df = one_iteration.loc[(one_iteration['AgentID'] == 0)] #(one_iteration['buyer_spent_eth'] != 0)]\n",
    "\n",
    "display(valid_df)"
   ],
   "metadata": {
    "collapsed": false,
    "pycharm": {
     "name": "#%%\n",
     "is_executing": true
    }
   }
  }
 ],
 "metadata": {
  "kernelspec": {
   "display_name": "Python 3",
   "language": "python",
   "name": "python3"
  },
  "language_info": {
   "codemirror_mode": {
    "name": "ipython",
    "version": 2
   },
   "file_extension": ".py",
   "mimetype": "text/x-python",
   "name": "python",
   "nbconvert_exporter": "python",
   "pygments_lexer": "ipython2",
   "version": "2.7.6"
  }
 },
 "nbformat": 4,
 "nbformat_minor": 0
}